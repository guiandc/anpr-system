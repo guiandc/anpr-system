{
 "cells": [
  {
   "cell_type": "code",
   "execution_count": 16,
   "id": "36c2791a",
   "metadata": {},
   "outputs": [
    {
     "data": {
      "text/plain": [
       "<module 'request_functions' from 'G:\\\\Users\\\\gui20\\\\python_projects\\\\ANPR_FINAL\\\\2.system\\\\request_functions.py'>"
      ]
     },
     "execution_count": 16,
     "metadata": {},
     "output_type": "execute_result"
    }
   ],
   "source": [
    "import sys, importlib\n",
    "importlib.reload(sys.modules['initialize_functions'])\n",
    "importlib.reload(sys.modules['request_functions'])\n",
    "#importlib.reload(sys.modules['firebase_functions'])"
   ]
  },
  {
   "cell_type": "code",
   "execution_count": 17,
   "id": "63ef6178",
   "metadata": {},
   "outputs": [],
   "source": [
    "import json\n",
    "from datetime import datetime\n",
    "\n",
    "from initialize_functions import *\n",
    "import initialize_functions as init_fun\n",
    "\n",
    "from request_functions import *\n",
    "import request_functions as req_fun\n",
    "\n",
    "from firebase_functions import *\n",
    "import firebase_functions as fb_fun"
   ]
  },
  {
   "cell_type": "code",
   "execution_count": 18,
   "id": "6a4e4950",
   "metadata": {},
   "outputs": [],
   "source": [
    "# def monitoring_spot(image):\n",
    "#     image = get_image(\"parking_spots\", spot)\n",
    "\n",
    "#     if image:\n",
    "#         spot_id = enter_image_list[0].replace('.jpg','')\n",
    "#         prepared_IMG = prepareIMG(os.path.join(paths['IMGS_PARKING_SPOTS'], enter_image_list[0]))\n",
    "#         ocr_res = ocr(prepared_IMG[0], prepared_IMG[1], 0.2, 52)\n",
    "#         plate = format_ocr(ocr_res)\n",
    "\n",
    "#         #print(\"VAGAS - [VAGA: \" + enter_image_list[0].replace('.jpg','') + \" PLACA: \" + plate + \"]\")\n",
    "#         print(checkSpot(spot_id))\n",
    "\n",
    "#         #altera status da vaga para disponível caso não seja identificada uma placa na imagem\n",
    "#         if not plate:\n",
    "#             setParkingSpotStatus(spot_id, True, '1')\n",
    "#             print('nada encontrado')\n",
    "#             pass\n",
    "\n",
    "#         last_plate_id = json.loads(checkSpot(spot_id))[\"plate\"][\"id\"]\n",
    "#         curr_plate_id =  json.loads(checkPlate(plate))['id']\n",
    "\n",
    "#         if curr_plate_id != last_plate_id:\n",
    "#             setParkingSpotStatus(spot_id, False, curr_plate_id)\n",
    "#             print('diferente')\n",
    "#             pass\n",
    "\n",
    "#         print('igual')"
   ]
  },
  {
   "cell_type": "code",
   "execution_count": 19,
   "id": "c41c749d",
   "metadata": {},
   "outputs": [],
   "source": [
    "def getSpotsName():\n",
    "    parking_spots = json.loads(listParkingSpots())\n",
    "    parking_spot_list = []\n",
    "    for spot in parking_spots:\n",
    "        parking_spot_list.append(spot[\"id\"])\n",
    "    return parking_spot_list"
   ]
  },
  {
   "cell_type": "code",
   "execution_count": 206,
   "id": "e2a2da7a",
   "metadata": {},
   "outputs": [],
   "source": [
    "def alter_parking_spot_info(spot_id, plate):\n",
    "    print(checkSpot(spot_id))\n",
    "    #altera status da vaga para disponível caso não seja identificada uma placa na imagem\n",
    "    \n",
    "    try:\n",
    "        last_plate_id = json.loads(checkSpot(spot_id))[\"plate\"][\"id\"]\n",
    "    except:\n",
    "        last_plate_id = id_0\n",
    "    \n",
    "    if not plate:\n",
    "        setParkingSpotStatus(spot_id, True, '1')\n",
    "        plate = placa_0\n",
    "        print('NADA ENCONTRADO')\n",
    "        \n",
    "    try:    \n",
    "        curr_plate_id =  json.loads(checkPlate(plate))['id']\n",
    "    except:\n",
    "        curr_plate_id = id_0\n",
    "        \n",
    "    print(\"ID VEÍCULO ANTERIOR : {} - ID VEÍCULO ATUAL: {}\".format(last_plate_id, curr_plate_id))\n",
    "\n",
    "    if curr_plate_id != last_plate_id:\n",
    "        setParkingSpotStatus(spot_id, False, curr_plate_id)\n",
    "        print('diferente')\n",
    "        return\n",
    "\n",
    "    print('igual')"
   ]
  },
  {
   "cell_type": "code",
   "execution_count": null,
   "id": "6bb770b7",
   "metadata": {},
   "outputs": [
    {
     "name": "stdout",
     "output_type": "stream",
     "text": [
      "{\"id\":2,\"name\":\"p2\",\"available\":false,\"plate\":{\"id\":6,\"plateNumber\":\"FLS6161\"}}\n",
      "ID VEÍCULO ANTERIOR : 6 - ID VEÍCULO ATUAL: 6\n",
      "igual\n",
      "{\"id\":2,\"name\":\"p2\",\"available\":false,\"plate\":{\"id\":6,\"plateNumber\":\"FLS6161\"}}\n",
      "ID VEÍCULO ANTERIOR : 6 - ID VEÍCULO ATUAL: 6\n",
      "igual\n"
     ]
    }
   ],
   "source": [
    "id_0 = '1'\n",
    "placa_0 = 'abc-1234'\n",
    "\n",
    "while True:\n",
    "    spot = parking_spot_list[0]\n",
    "    #print(\"VERIFICANDO VAGA: \" + str(spot))\n",
    "\n",
    "    #resgata imagem do firebase\n",
    "    spot_image = get_image(\"parking_spots\", spot)\n",
    "\n",
    "    if not spot_image:\n",
    "        print(\"SEM IMAGEM NO SISTEMA\")\n",
    "        continue\n",
    "\n",
    "    #seguimenta a placa\n",
    "    prepared_IMG = prepareIMG(spot_image)\n",
    "\n",
    "    #aplica ocr\n",
    "    ocr_res = ocr(prepared_IMG[0], prepared_IMG[1], 0.2, 52)\n",
    "\n",
    "    #formata resultado do ocr\n",
    "    plate = format_ocr(ocr_res)\n",
    "\n",
    "    #seta status da vaga\n",
    "    alter_parking_spot_info(spot, plate)"
   ]
  }
 ],
 "metadata": {
  "kernelspec": {
   "display_name": "anprsys",
   "language": "python",
   "name": "anprsys"
  },
  "language_info": {
   "codemirror_mode": {
    "name": "ipython",
    "version": 3
   },
   "file_extension": ".py",
   "mimetype": "text/x-python",
   "name": "python",
   "nbconvert_exporter": "python",
   "pygments_lexer": "ipython3",
   "version": "3.10.6"
  }
 },
 "nbformat": 4,
 "nbformat_minor": 5
}
