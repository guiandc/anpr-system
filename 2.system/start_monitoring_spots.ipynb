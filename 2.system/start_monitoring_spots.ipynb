{
 "cells": [
  {
   "cell_type": "code",
   "execution_count": 1,
   "id": "36c2791a",
   "metadata": {
    "collapsed": true
   },
   "outputs": [
    {
     "ename": "KeyError",
     "evalue": "'initialize_functions'",
     "output_type": "error",
     "traceback": [
      "\u001b[1;31m---------------------------------------------------------------------------\u001b[0m",
      "\u001b[1;31mKeyError\u001b[0m                                  Traceback (most recent call last)",
      "Cell \u001b[1;32mIn [1], line 2\u001b[0m\n\u001b[0;32m      1\u001b[0m \u001b[38;5;28;01mimport\u001b[39;00m \u001b[38;5;21;01msys\u001b[39;00m\u001b[38;5;241m,\u001b[39m \u001b[38;5;21;01mimportlib\u001b[39;00m\n\u001b[1;32m----> 2\u001b[0m importlib\u001b[38;5;241m.\u001b[39mreload(\u001b[43msys\u001b[49m\u001b[38;5;241;43m.\u001b[39;49m\u001b[43mmodules\u001b[49m\u001b[43m[\u001b[49m\u001b[38;5;124;43m'\u001b[39;49m\u001b[38;5;124;43minitialize_functions\u001b[39;49m\u001b[38;5;124;43m'\u001b[39;49m\u001b[43m]\u001b[49m)\n\u001b[0;32m      3\u001b[0m importlib\u001b[38;5;241m.\u001b[39mreload(sys\u001b[38;5;241m.\u001b[39mmodules[\u001b[38;5;124m'\u001b[39m\u001b[38;5;124mrequest_functions\u001b[39m\u001b[38;5;124m'\u001b[39m])\n",
      "\u001b[1;31mKeyError\u001b[0m: 'initialize_functions'"
     ]
    }
   ],
   "source": [
    "import sys, importlib\n",
    "importlib.reload(sys.modules['initialize_functions'])\n",
    "importlib.reload(sys.modules['request_functions'])"
   ]
  },
  {
   "cell_type": "code",
   "execution_count": 2,
   "id": "63ef6178",
   "metadata": {},
   "outputs": [],
   "source": [
    "import json\n",
    "\n",
    "from initialize_functions import *\n",
    "import initialize_functions as init_fun\n",
    "\n",
    "from request_functions import *\n",
    "import request_functions as req_fun"
   ]
  },
  {
   "cell_type": "code",
   "execution_count": 20,
   "id": "6a4e4950",
   "metadata": {},
   "outputs": [],
   "source": [
    "def monitoring_spot():\n",
    "    while True:\n",
    "        enter_image_list = os.listdir(paths['IMGS_PARKING_SPOTS'])\n",
    "        \n",
    "        if enter_image_list:\n",
    "            spot_id = enter_image_list[0].replace('.jpg','')\n",
    "            prepared_IMG = prepareIMG(os.path.join(paths['IMGS_PARKING_SPOTS'], enter_image_list[0]))\n",
    "            ocr_res = ocr(prepared_IMG[0], prepared_IMG[1], 0.2, 52)\n",
    "            plate = format_ocr(ocr_res)\n",
    "\n",
    "            #print(\"VAGAS - [VAGA: \" + enter_image_list[0].replace('.jpg','') + \" PLACA: \" + plate + \"]\")\n",
    "            print(checkSpot(spot_id))\n",
    "            \n",
    "            #altera status da vaga para disponível caso não seja identificada uma placa na imagem\n",
    "            if not plate:\n",
    "                setParkingSpotStatus(spot_id, True, '1')\n",
    "                print('nada encontrado')\n",
    "                continue\n",
    "\n",
    "            last_plate_id = json.loads(checkSpot(spot_id))[\"plate\"][\"id\"]\n",
    "            curr_plate_id =  json.loads(checkPlate(plate))['id']\n",
    "\n",
    "            if curr_plate_id != last_plate_id:\n",
    "                setParkingSpotStatus(spot_id, False, curr_plate_id)\n",
    "                print('diferente')\n",
    "                continue\n",
    "\n",
    "            print('igual')"
   ]
  },
  {
   "cell_type": "code",
   "execution_count": null,
   "id": "38dd0aeb",
   "metadata": {},
   "outputs": [
    {
     "name": "stdout",
     "output_type": "stream",
     "text": [
      "{\"id\":1,\"name\":\"p2\",\"available\":true,\"plate\":{\"id\":1,\"plateNumber\":\"abc-1234\"}}\n"
     ]
    }
   ],
   "source": [
    "monitoring_spot()"
   ]
  },
  {
   "cell_type": "code",
   "execution_count": null,
   "id": "36fe0afc",
   "metadata": {},
   "outputs": [],
   "source": []
  },
  {
   "cell_type": "code",
   "execution_count": null,
   "id": "0d3b4049",
   "metadata": {},
   "outputs": [],
   "source": [
    "enter_image_list = os.listdir(paths['IMGS_PARKING_SPOTS'])\n",
    "spot_id = enter_image_list[0]\n",
    "spot_id"
   ]
  }
 ],
 "metadata": {
  "kernelspec": {
   "display_name": "anprsys",
   "language": "python",
   "name": "anprsys"
  },
  "language_info": {
   "codemirror_mode": {
    "name": "ipython",
    "version": 3
   },
   "file_extension": ".py",
   "mimetype": "text/x-python",
   "name": "python",
   "nbconvert_exporter": "python",
   "pygments_lexer": "ipython3",
   "version": "3.10.6"
  }
 },
 "nbformat": 4,
 "nbformat_minor": 5
}
