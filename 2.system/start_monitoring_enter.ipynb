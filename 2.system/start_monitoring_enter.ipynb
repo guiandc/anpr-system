{
 "cells": [
  {
   "cell_type": "code",
   "execution_count": null,
   "id": "ce8a02cf",
   "metadata": {},
   "outputs": [],
   "source": [
    "import sys, importlib\n",
    "importlib.reload(sys.modules['initialize_functions'])\n",
    "importlib.reload(sys.modules['request_functions'])\n",
    "importlib.reload(sys.modules['firebase_functions'])"
   ]
  },
  {
   "cell_type": "code",
   "execution_count": 1,
   "id": "63ef6178",
   "metadata": {},
   "outputs": [],
   "source": [
    "import json\n",
    "from datetime import datetime\n",
    "\n",
    "from initialize_functions import *\n",
    "import initialize_functions as init_fun\n",
    "\n",
    "from request_functions import *\n",
    "import request_functions as req_fun\n",
    "\n",
    "from firebase_functions import *\n",
    "import firebase_functions as fb_fun"
   ]
  },
  {
   "cell_type": "code",
   "execution_count": 2,
   "id": "8ee8f949",
   "metadata": {},
   "outputs": [],
   "source": [
    "def monitoring_enter():\n",
    "    while True:\n",
    "        enter_img = get_image(\"enter\", \"enter\")\n",
    "        if enter_img:\n",
    "            prepared_IMG = prepareIMG(enter_img)\n",
    "            ocr_res = ocr(prepared_IMG[0], prepared_IMG[1], 0.2, 52)\n",
    "            plate = format_ocr(ocr_res)\n",
    "            print(\"ENTRADA: \" + str(plate))\n",
    "            \n",
    "            #altera status da vaga para disponível caso não seja identificada uma placa na imagem\n",
    "            if not plate:\n",
    "                print(\"SEM CARRO\")\n",
    "                continue\n",
    "                \n",
    "            open_gate()"
   ]
  },
  {
   "cell_type": "code",
   "execution_count": 3,
   "id": "d52b2b33",
   "metadata": {},
   "outputs": [
    {
     "name": "stdout",
     "output_type": "stream",
     "text": [
      "ENTRADA: FBY2860\n",
      "Catraca aberta\n",
      "ENTRADA: FBY2860\n",
      "Catraca aberta\n",
      "ENTRADA: FBY2860\n",
      "Catraca aberta\n",
      "ENTRADA: FBY2860\n",
      "Catraca aberta\n",
      "ENTRADA: FBY2860\n",
      "Catraca aberta\n",
      "ENTRADA: FBY2860\n",
      "Catraca aberta\n",
      "ENTRADA: FBY2860\n",
      "Catraca aberta\n",
      "ENTRADA: FBY2860\n",
      "Catraca aberta\n",
      "ENTRADA: FBY2860\n",
      "Catraca aberta\n",
      "ENTRADA: FBY2860\n",
      "Catraca aberta\n",
      "ENTRADA: FBY2860\n",
      "Catraca aberta\n",
      "ENTRADA: FBY2860\n",
      "Catraca aberta\n",
      "ENTRADA: FBY2860\n",
      "Catraca aberta\n",
      "ENTRADA: FBY2860\n",
      "Catraca aberta\n",
      "ENTRADA: FBY2860\n",
      "Catraca aberta\n",
      "ENTRADA: FBY2860\n",
      "Catraca aberta\n",
      "ENTRADA: FBY2860\n",
      "Catraca aberta\n",
      "ENTRADA: FBY2860\n",
      "Catraca aberta\n",
      "ENTRADA: FBY2860\n",
      "Catraca aberta\n",
      "ENTRADA: FBY2860\n",
      "Catraca aberta\n",
      "ENTRADA: FBY2860\n",
      "Catraca aberta\n",
      "ENTRADA: FBY2860\n",
      "Catraca aberta\n",
      "ENTRADA: FBY2860\n",
      "Catraca aberta\n",
      "ENTRADA: FBY2860\n",
      "Catraca aberta\n"
     ]
    },
    {
     "ename": "KeyboardInterrupt",
     "evalue": "",
     "output_type": "error",
     "traceback": [
      "\u001b[1;31m---------------------------------------------------------------------------\u001b[0m",
      "\u001b[1;31mKeyboardInterrupt\u001b[0m                         Traceback (most recent call last)",
      "Cell \u001b[1;32mIn [3], line 1\u001b[0m\n\u001b[1;32m----> 1\u001b[0m \u001b[43mmonitoring_enter\u001b[49m\u001b[43m(\u001b[49m\u001b[43m)\u001b[49m\n",
      "Cell \u001b[1;32mIn [2], line 5\u001b[0m, in \u001b[0;36mmonitoring_enter\u001b[1;34m()\u001b[0m\n\u001b[0;32m      3\u001b[0m enter_img \u001b[38;5;241m=\u001b[39m get_image(\u001b[38;5;124m\"\u001b[39m\u001b[38;5;124menter\u001b[39m\u001b[38;5;124m\"\u001b[39m, \u001b[38;5;124m\"\u001b[39m\u001b[38;5;124menter\u001b[39m\u001b[38;5;124m\"\u001b[39m)\n\u001b[0;32m      4\u001b[0m \u001b[38;5;28;01mif\u001b[39;00m enter_img:\n\u001b[1;32m----> 5\u001b[0m     prepared_IMG \u001b[38;5;241m=\u001b[39m \u001b[43mprepareIMG\u001b[49m\u001b[43m(\u001b[49m\u001b[43menter_img\u001b[49m\u001b[43m)\u001b[49m\n\u001b[0;32m      6\u001b[0m     ocr_res \u001b[38;5;241m=\u001b[39m ocr(prepared_IMG[\u001b[38;5;241m0\u001b[39m], prepared_IMG[\u001b[38;5;241m1\u001b[39m], \u001b[38;5;241m0.2\u001b[39m, \u001b[38;5;241m52\u001b[39m)\n\u001b[0;32m      7\u001b[0m     plate \u001b[38;5;241m=\u001b[39m format_ocr(ocr_res)\n",
      "File \u001b[1;32mG:\\Users\\gui20\\python_projects\\ANPR_FINAL2\\2.system\\initialize_functions.py:89\u001b[0m, in \u001b[0;36mprepareIMG\u001b[1;34m(image)\u001b[0m\n\u001b[0;32m     88\u001b[0m \u001b[38;5;28;01mdef\u001b[39;00m \u001b[38;5;21mprepareIMG\u001b[39m(image):\n\u001b[1;32m---> 89\u001b[0m     image_np \u001b[38;5;241m=\u001b[39m \u001b[43mnp\u001b[49m\u001b[38;5;241;43m.\u001b[39;49m\u001b[43marray\u001b[49m\u001b[43m(\u001b[49m\u001b[43mimage\u001b[49m\u001b[43m)\u001b[49m\n\u001b[0;32m     91\u001b[0m     input_tensor \u001b[38;5;241m=\u001b[39m tf\u001b[38;5;241m.\u001b[39mconvert_to_tensor(np\u001b[38;5;241m.\u001b[39mexpand_dims(image_np, \u001b[38;5;241m0\u001b[39m), dtype\u001b[38;5;241m=\u001b[39mtf\u001b[38;5;241m.\u001b[39mfloat32)\n\u001b[0;32m     92\u001b[0m     detections \u001b[38;5;241m=\u001b[39m detect_fn(input_tensor)\n",
      "File \u001b[1;32mG:\\Users\\gui20\\python_projects\\ANPR_FINAL\\anprsys\\lib\\site-packages\\PIL\\Image.py:688\u001b[0m, in \u001b[0;36mImage.__array_interface__\u001b[1;34m(self)\u001b[0m\n\u001b[0;32m    686\u001b[0m         new[\u001b[38;5;124m\"\u001b[39m\u001b[38;5;124mdata\u001b[39m\u001b[38;5;124m\"\u001b[39m] \u001b[38;5;241m=\u001b[39m \u001b[38;5;28mself\u001b[39m\u001b[38;5;241m.\u001b[39mtobytes(\u001b[38;5;124m\"\u001b[39m\u001b[38;5;124mraw\u001b[39m\u001b[38;5;124m\"\u001b[39m, \u001b[38;5;124m\"\u001b[39m\u001b[38;5;124mL\u001b[39m\u001b[38;5;124m\"\u001b[39m)\n\u001b[0;32m    687\u001b[0m     \u001b[38;5;28;01melse\u001b[39;00m:\n\u001b[1;32m--> 688\u001b[0m         new[\u001b[38;5;124m\"\u001b[39m\u001b[38;5;124mdata\u001b[39m\u001b[38;5;124m\"\u001b[39m] \u001b[38;5;241m=\u001b[39m \u001b[38;5;28;43mself\u001b[39;49m\u001b[38;5;241;43m.\u001b[39;49m\u001b[43mtobytes\u001b[49m\u001b[43m(\u001b[49m\u001b[43m)\u001b[49m\n\u001b[0;32m    689\u001b[0m \u001b[38;5;28;01mexcept\u001b[39;00m \u001b[38;5;167;01mException\u001b[39;00m \u001b[38;5;28;01mas\u001b[39;00m e:\n\u001b[0;32m    690\u001b[0m     \u001b[38;5;28;01mif\u001b[39;00m \u001b[38;5;129;01mnot\u001b[39;00m \u001b[38;5;28misinstance\u001b[39m(e, (\u001b[38;5;167;01mMemoryError\u001b[39;00m, \u001b[38;5;167;01mRecursionError\u001b[39;00m)):\n",
      "File \u001b[1;32mG:\\Users\\gui20\\python_projects\\ANPR_FINAL\\anprsys\\lib\\site-packages\\PIL\\Image.py:746\u001b[0m, in \u001b[0;36mImage.tobytes\u001b[1;34m(self, encoder_name, *args)\u001b[0m\n\u001b[0;32m    743\u001b[0m \u001b[38;5;28;01mif\u001b[39;00m encoder_name \u001b[38;5;241m==\u001b[39m \u001b[38;5;124m\"\u001b[39m\u001b[38;5;124mraw\u001b[39m\u001b[38;5;124m\"\u001b[39m \u001b[38;5;129;01mand\u001b[39;00m args \u001b[38;5;241m==\u001b[39m ():\n\u001b[0;32m    744\u001b[0m     args \u001b[38;5;241m=\u001b[39m \u001b[38;5;28mself\u001b[39m\u001b[38;5;241m.\u001b[39mmode\n\u001b[1;32m--> 746\u001b[0m \u001b[38;5;28;43mself\u001b[39;49m\u001b[38;5;241;43m.\u001b[39;49m\u001b[43mload\u001b[49m\u001b[43m(\u001b[49m\u001b[43m)\u001b[49m\n\u001b[0;32m    748\u001b[0m \u001b[38;5;28;01mif\u001b[39;00m \u001b[38;5;28mself\u001b[39m\u001b[38;5;241m.\u001b[39mwidth \u001b[38;5;241m==\u001b[39m \u001b[38;5;241m0\u001b[39m \u001b[38;5;129;01mor\u001b[39;00m \u001b[38;5;28mself\u001b[39m\u001b[38;5;241m.\u001b[39mheight \u001b[38;5;241m==\u001b[39m \u001b[38;5;241m0\u001b[39m:\n\u001b[0;32m    749\u001b[0m     \u001b[38;5;28;01mreturn\u001b[39;00m \u001b[38;5;124mb\u001b[39m\u001b[38;5;124m\"\u001b[39m\u001b[38;5;124m\"\u001b[39m\n",
      "File \u001b[1;32mG:\\Users\\gui20\\python_projects\\ANPR_FINAL\\anprsys\\lib\\site-packages\\PIL\\ImageFile.py:260\u001b[0m, in \u001b[0;36mImageFile.load\u001b[1;34m(self)\u001b[0m\n\u001b[0;32m    254\u001b[0m         \u001b[38;5;28;01mraise\u001b[39;00m \u001b[38;5;167;01mOSError\u001b[39;00m(\n\u001b[0;32m    255\u001b[0m             \u001b[38;5;124m\"\u001b[39m\u001b[38;5;124mimage file is truncated \u001b[39m\u001b[38;5;124m\"\u001b[39m\n\u001b[0;32m    256\u001b[0m             \u001b[38;5;124mf\u001b[39m\u001b[38;5;124m\"\u001b[39m\u001b[38;5;124m(\u001b[39m\u001b[38;5;132;01m{\u001b[39;00m\u001b[38;5;28mlen\u001b[39m(b)\u001b[38;5;132;01m}\u001b[39;00m\u001b[38;5;124m bytes not processed)\u001b[39m\u001b[38;5;124m\"\u001b[39m\n\u001b[0;32m    257\u001b[0m         )\n\u001b[0;32m    259\u001b[0m b \u001b[38;5;241m=\u001b[39m b \u001b[38;5;241m+\u001b[39m s\n\u001b[1;32m--> 260\u001b[0m n, err_code \u001b[38;5;241m=\u001b[39m \u001b[43mdecoder\u001b[49m\u001b[38;5;241;43m.\u001b[39;49m\u001b[43mdecode\u001b[49m\u001b[43m(\u001b[49m\u001b[43mb\u001b[49m\u001b[43m)\u001b[49m\n\u001b[0;32m    261\u001b[0m \u001b[38;5;28;01mif\u001b[39;00m n \u001b[38;5;241m<\u001b[39m \u001b[38;5;241m0\u001b[39m:\n\u001b[0;32m    262\u001b[0m     \u001b[38;5;28;01mbreak\u001b[39;00m\n",
      "\u001b[1;31mKeyboardInterrupt\u001b[0m: "
     ]
    }
   ],
   "source": [
    "monitoring_enter()"
   ]
  }
 ],
 "metadata": {
  "kernelspec": {
   "display_name": "anprsys",
   "language": "python",
   "name": "anprsys"
  },
  "language_info": {
   "codemirror_mode": {
    "name": "ipython",
    "version": 3
   },
   "file_extension": ".py",
   "mimetype": "text/x-python",
   "name": "python",
   "nbconvert_exporter": "python",
   "pygments_lexer": "ipython3",
   "version": "3.10.6"
  }
 },
 "nbformat": 4,
 "nbformat_minor": 5
}
