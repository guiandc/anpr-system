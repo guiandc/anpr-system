{
 "cells": [
  {
   "cell_type": "code",
   "execution_count": 1,
   "id": "63ef6178",
   "metadata": {},
   "outputs": [
    {
     "name": "stdout",
     "output_type": "stream",
     "text": [
      "ckpt-21\n"
     ]
    }
   ],
   "source": [
    "from initialize_functions import *\n",
    "from request_functions import *"
   ]
  },
  {
   "cell_type": "code",
   "execution_count": 2,
   "id": "8ee8f949",
   "metadata": {},
   "outputs": [],
   "source": [
    "def monitoring_enter():\n",
    "    while True:\n",
    "        enter_image_list = os.listdir(paths['IMGS_ENTER'])\n",
    "        if enter_image_list:\n",
    "            prepared_IMG = prepareIMG(os.path.join(paths['IMGS_ENTER'], enter_image_list[0]))\n",
    "            ocr_res = ocr(prepared_IMG[0], prepared_IMG[1], 0.2, 52)\n",
    "            plate = format_ocr(ocr_res)\n",
    "            print(\"ENTRADA: \" + plate)"
   ]
  },
  {
   "cell_type": "code",
   "execution_count": null,
   "id": "08df3a5a",
   "metadata": {},
   "outputs": [
    {
     "name": "stdout",
     "output_type": "stream",
     "text": [
      "ENTRADA: FBY2860\n",
      "ENTRADA: FBY2860\n",
      "ENTRADA: FBY2860\n",
      "ENTRADA: FBY2860\n",
      "ENTRADA: FBY2860\n"
     ]
    }
   ],
   "source": [
    "monitoring_enter()"
   ]
  }
 ],
 "metadata": {
  "kernelspec": {
   "display_name": "Python 3 (ipykernel)",
   "language": "python",
   "name": "python3"
  },
  "language_info": {
   "codemirror_mode": {
    "name": "ipython",
    "version": 3
   },
   "file_extension": ".py",
   "mimetype": "text/x-python",
   "name": "python",
   "nbconvert_exporter": "python",
   "pygments_lexer": "ipython3",
   "version": "3.10.6"
  }
 },
 "nbformat": 4,
 "nbformat_minor": 5
}
