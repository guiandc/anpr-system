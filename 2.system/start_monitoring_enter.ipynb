{
 "cells": [
  {
   "cell_type": "code",
   "execution_count": null,
   "id": "ce8a02cf",
   "metadata": {},
   "outputs": [],
   "source": [
    "import sys, importlib\n",
    "importlib.reload(sys.modules['initialize_functions'])\n",
    "importlib.reload(sys.modules['request_functions'])\n",
    "#importlib.reload(sys.modules['firebase_functions'])"
   ]
  },
  {
   "cell_type": "code",
   "execution_count": 1,
   "id": "63ef6178",
   "metadata": {},
   "outputs": [
    {
     "ename": "FileNotFoundError",
     "evalue": "[Errno 2] No such file or directory: ''",
     "output_type": "error",
     "traceback": [
      "\u001b[1;31m---------------------------------------------------------------------------\u001b[0m",
      "\u001b[1;31mFileNotFoundError\u001b[0m                         Traceback (most recent call last)",
      "Cell \u001b[1;32mIn[1], line 10\u001b[0m\n\u001b[0;32m      7\u001b[0m \u001b[38;5;28;01mfrom\u001b[39;00m \u001b[38;5;21;01mrequest_functions\u001b[39;00m \u001b[38;5;28;01mimport\u001b[39;00m \u001b[38;5;241m*\u001b[39m\n\u001b[0;32m      8\u001b[0m \u001b[38;5;28;01mimport\u001b[39;00m \u001b[38;5;21;01mrequest_functions\u001b[39;00m \u001b[38;5;28;01mas\u001b[39;00m \u001b[38;5;21;01mreq_fun\u001b[39;00m\n\u001b[1;32m---> 10\u001b[0m \u001b[38;5;28;01mfrom\u001b[39;00m \u001b[38;5;21;01mfirebase_functions\u001b[39;00m \u001b[38;5;28;01mimport\u001b[39;00m \u001b[38;5;241m*\u001b[39m\n\u001b[0;32m     11\u001b[0m \u001b[38;5;28;01mimport\u001b[39;00m \u001b[38;5;21;01mfirebase_functions\u001b[39;00m \u001b[38;5;28;01mas\u001b[39;00m \u001b[38;5;21;01mfb_fun\u001b[39;00m\n",
      "File \u001b[1;32mG:\\Users\\gui20\\python_projects\\ANPR_FINAL\\2.system\\firebase_functions.py:9\u001b[0m\n\u001b[0;32m      6\u001b[0m \u001b[38;5;28;01mfrom\u001b[39;00m \u001b[38;5;21;01mio\u001b[39;00m \u001b[38;5;28;01mimport\u001b[39;00m BytesIO\n\u001b[0;32m      7\u001b[0m \u001b[38;5;28;01mfrom\u001b[39;00m \u001b[38;5;21;01mPIL\u001b[39;00m \u001b[38;5;28;01mimport\u001b[39;00m Image\n\u001b[1;32m----> 9\u001b[0m cred \u001b[38;5;241m=\u001b[39m credentials\u001b[38;5;241m.\u001b[39mCertificate(\u001b[38;5;28;43mopen\u001b[39;49m\u001b[43m(\u001b[49m\u001b[38;5;124;43m'\u001b[39;49m\u001b[38;5;124;43m'\u001b[39;49m\u001b[43m,\u001b[49m\u001b[43m \u001b[49m\u001b[38;5;124;43m'\u001b[39;49m\u001b[38;5;124;43mr\u001b[39;49m\u001b[38;5;124;43m'\u001b[39;49m\u001b[43m)\u001b[49m)\n\u001b[0;32m     10\u001b[0m \u001b[38;5;28;01mif\u001b[39;00m \u001b[38;5;129;01mnot\u001b[39;00m app:\n\u001b[0;32m     11\u001b[0m     app \u001b[38;5;241m=\u001b[39m firebase_admin\u001b[38;5;241m.\u001b[39minitialize_app(cred, {\n\u001b[0;32m     12\u001b[0m         \u001b[38;5;124m'\u001b[39m\u001b[38;5;124mstorageBucket\u001b[39m\u001b[38;5;124m'\u001b[39m: \u001b[38;5;124m'\u001b[39m\u001b[38;5;124m'\u001b[39m,\n\u001b[0;32m     13\u001b[0m     }, name\u001b[38;5;241m=\u001b[39m\u001b[38;5;124m'\u001b[39m\u001b[38;5;124mstorage\u001b[39m\u001b[38;5;124m'\u001b[39m)\n",
      "\u001b[1;31mFileNotFoundError\u001b[0m: [Errno 2] No such file or directory: ''"
     ]
    }
   ],
   "source": [
    "import json\n",
    "from datetime import datetime\n",
    "\n",
    "from initialize_functions import *\n",
    "import initialize_functions as init_fun\n",
    "\n",
    "from request_functions import *\n",
    "import request_functions as req_fun\n",
    "\n",
    "from firebase_functions import *\n",
    "import firebase_functions as fb_fun"
   ]
  },
  {
   "cell_type": "code",
   "execution_count": null,
   "id": "8ee8f949",
   "metadata": {},
   "outputs": [],
   "source": [
    "def monitoring_enter():\n",
    "    while True:\n",
    "        enter_img = get_image(\"enter\", \"enter\")\n",
    "        if enter_img:\n",
    "            prepared_IMG = prepareIMG(enter_img)\n",
    "            ocr_res = ocr(prepared_IMG[0], prepared_IMG[1], 0.2, 52)\n",
    "            plate = format_ocr(ocr_res)\n",
    "            print(\"ENTRADA: \" + str(plate))\n",
    "            \n",
    "            #altera status da vaga para disponível caso não seja identificada uma placa na imagem\n",
    "            if not plate:\n",
    "                print(\"SEM CARRO\")\n",
    "                continue\n",
    "                \n",
    "            open_gate()"
   ]
  },
  {
   "cell_type": "code",
   "execution_count": null,
   "id": "d52b2b33",
   "metadata": {},
   "outputs": [],
   "source": [
    "monitoring_enter()"
   ]
  },
  {
   "cell_type": "code",
   "execution_count": 18,
   "id": "921f9ddd",
   "metadata": {},
   "outputs": [
    {
     "data": {
      "text/plain": [
       "'{\"id\":1,\"name\":\"p1\",\"available\":false,\"plate\":{\"id\":7,\"plateNumber\":\"abc-1234\"}}'"
      ]
     },
     "execution_count": 18,
     "metadata": {},
     "output_type": "execute_result"
    }
   ],
   "source": [
    "setParkingSpotStatusUnavailable(1, \"abc-1234\")"
   ]
  },
  {
   "cell_type": "code",
   "execution_count": 19,
   "id": "e4d507c9",
   "metadata": {},
   "outputs": [
    {
     "data": {
      "text/plain": [
       "'{\"id\":1,\"name\":\"p1\",\"available\":false,\"plate\":{\"id\":7,\"plateNumber\":\"abc-1234\"}}'"
      ]
     },
     "execution_count": 19,
     "metadata": {},
     "output_type": "execute_result"
    }
   ],
   "source": [
    "checkSpot(1)"
   ]
  },
  {
   "cell_type": "code",
   "execution_count": 20,
   "id": "df81c21f",
   "metadata": {},
   "outputs": [
    {
     "data": {
      "text/plain": [
       "'{\"id\":1,\"name\":\"p1\",\"available\":true,\"plate\":null}'"
      ]
     },
     "execution_count": 20,
     "metadata": {},
     "output_type": "execute_result"
    }
   ],
   "source": [
    "setParkingSpotStatusAvailable(1)"
   ]
  },
  {
   "cell_type": "code",
   "execution_count": 23,
   "id": "a5322a9a",
   "metadata": {},
   "outputs": [
    {
     "data": {
      "text/plain": [
       "'{\"id\":1,\"name\":\"p1\",\"available\":true,\"plate\":null}'"
      ]
     },
     "execution_count": 23,
     "metadata": {},
     "output_type": "execute_result"
    }
   ],
   "source": [
    "checkSpot(1)"
   ]
  },
  {
   "cell_type": "code",
   "execution_count": 22,
   "id": "f11cc0f1",
   "metadata": {},
   "outputs": [
    {
     "data": {
      "text/plain": [
       "{'id': 1, 'name': 'p1', 'available': True, 'plate': None}"
      ]
     },
     "execution_count": 22,
     "metadata": {},
     "output_type": "execute_result"
    }
   ],
   "source": [
    "last_plate = json.loads(checkSpot(1))\n",
    "last_plate"
   ]
  },
  {
   "cell_type": "code",
   "execution_count": 10,
   "id": "455f73ce",
   "metadata": {},
   "outputs": [],
   "source": [
    "last_plate"
   ]
  }
 ],
 "metadata": {
  "kernelspec": {
   "display_name": "anprsys",
   "language": "python",
   "name": "anprsys"
  },
  "language_info": {
   "codemirror_mode": {
    "name": "ipython",
    "version": 3
   },
   "file_extension": ".py",
   "mimetype": "text/x-python",
   "name": "python",
   "nbconvert_exporter": "python",
   "pygments_lexer": "ipython3",
   "version": "3.10.6"
  }
 },
 "nbformat": 4,
 "nbformat_minor": 5
}
